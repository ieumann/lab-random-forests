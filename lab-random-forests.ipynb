{
 "cells": [
  {
   "cell_type": "markdown",
   "id": "1c4c8270",
   "metadata": {},
   "source": [
    "### Scenario\n",
    "\n",
    "You are working as an analyst with this internet service provider. You are provided with this historical data about your company's customers and their churn trends. Your task is to build a machine learning model that will help the company identify customers that are more likely to default/churn and thus prevent losses from such customers.\n",
    "\n",
    "### Instructions\n",
    "\n",
    "1. Importing libraries <br>\n",
    "- Import the required libraries and modules that you would need.\n",
    "2. Reading the data <br>\n",
    "- Read that data into Python and call the dataframe `churnData`.\n",
    "3. Cleaning the data <br>\n",
    "- Check the datatypes of all the columns in the data. You would see that the column `TotalCharges` is object type. Convert this column into numeric type using `pd.to_numeric` function.\n",
    "- Check for null values in the dataframe. Replace the null values.\n",
    "4. Preprocessing the data <br>\n",
    "- Use the following features: `tenure`, `SeniorCitizen`, `MonthlyCharges` and `TotalCharges`:\n",
    "- Scale the features either by using normalizer or a standard scaler.\n",
    "5. Setting up the model <br>\n",
    "- Split the data into a training set and a test set.\n",
    "- Fit a logistic regression model on the training data.\n",
    "- Check the accuracy on the test data.\n",
    "6. Managing imbalance & checking accuracy <br>\n",
    "- Check for the imbalance.\n",
    "- Use the resampling strategies used in class for upsampling and downsampling to create a balance between the two classes.\n",
    "- Each time fit the model and see how the accuracy of the model is.\n",
    "7. Decision tree model <br>\n",
    "- Apply SMOTE for upsampling the data\n",
    "    - Use logistic regression to fit the model and compute the accuracy of the model. (see above)\n",
    "    - Use decision tree classifier to fit the model and compute the accuracy of the model.\n",
    "    - Compare the accuracies of the two models.\n",
    "- Apply TomekLinks for downsampling\n",
    "    - Use logistic regression to fit the model and compute the accuracy of the model. (see above)\n",
    "    - Use decision tree classifier to fit the model and compute the accuracy of the model.\n",
    "    - Compare the accuracies of the two models.\n",
    "8. Apply Random Forests after upscaling with SMOTE\n",
    "    - Note that since SMOTE works on numerical data only, we will first encode the categorical variables."
   ]
  },
  {
   "cell_type": "markdown",
   "id": "f6ffe23f",
   "metadata": {},
   "source": [
    "### 1. Importing libraries"
   ]
  },
  {
   "cell_type": "code",
   "execution_count": 25,
   "id": "2fd868f3",
   "metadata": {},
   "outputs": [],
   "source": [
    "import numpy as np\n",
    "import pandas as pd\n",
    "\n",
    "pd.set_option('display.max_columns', None)\n",
    "import warnings\n",
    "warnings.filterwarnings('ignore')\n",
    "\n",
    "from sklearn.preprocessing import MinMaxScaler\n",
    "from sklearn.preprocessing import OneHotEncoder\n",
    "from sklearn.preprocessing import OneHotEncoder\n",
    "\n",
    "from sklearn.linear_model import LogisticRegression\n",
    "from sklearn.tree import DecisionTreeClassifier\n",
    "from sklearn.ensemble import RandomForestClassifier\n",
    "from sklearn.model_selection import train_test_split\n",
    "from sklearn.metrics import accuracy_score\n",
    "\n",
    "from imblearn.over_sampling import SMOTE\n",
    "from imblearn.under_sampling import TomekLinks"
   ]
  },
  {
   "cell_type": "markdown",
   "id": "ff6b578f",
   "metadata": {},
   "source": [
    "### 2. Reading the data"
   ]
  },
  {
   "cell_type": "code",
   "execution_count": 2,
   "id": "d744aae1",
   "metadata": {},
   "outputs": [
    {
     "data": {
      "text/html": [
       "<div>\n",
       "<style scoped>\n",
       "    .dataframe tbody tr th:only-of-type {\n",
       "        vertical-align: middle;\n",
       "    }\n",
       "\n",
       "    .dataframe tbody tr th {\n",
       "        vertical-align: top;\n",
       "    }\n",
       "\n",
       "    .dataframe thead th {\n",
       "        text-align: right;\n",
       "    }\n",
       "</style>\n",
       "<table border=\"1\" class=\"dataframe\">\n",
       "  <thead>\n",
       "    <tr style=\"text-align: right;\">\n",
       "      <th></th>\n",
       "      <th>gender</th>\n",
       "      <th>SeniorCitizen</th>\n",
       "      <th>Partner</th>\n",
       "      <th>Dependents</th>\n",
       "      <th>tenure</th>\n",
       "      <th>PhoneService</th>\n",
       "      <th>OnlineSecurity</th>\n",
       "      <th>OnlineBackup</th>\n",
       "      <th>DeviceProtection</th>\n",
       "      <th>TechSupport</th>\n",
       "      <th>StreamingTV</th>\n",
       "      <th>StreamingMovies</th>\n",
       "      <th>Contract</th>\n",
       "      <th>MonthlyCharges</th>\n",
       "      <th>TotalCharges</th>\n",
       "      <th>Churn</th>\n",
       "    </tr>\n",
       "  </thead>\n",
       "  <tbody>\n",
       "    <tr>\n",
       "      <th>0</th>\n",
       "      <td>Female</td>\n",
       "      <td>0</td>\n",
       "      <td>Yes</td>\n",
       "      <td>No</td>\n",
       "      <td>1</td>\n",
       "      <td>No</td>\n",
       "      <td>No</td>\n",
       "      <td>Yes</td>\n",
       "      <td>No</td>\n",
       "      <td>No</td>\n",
       "      <td>No</td>\n",
       "      <td>No</td>\n",
       "      <td>Month-to-month</td>\n",
       "      <td>29.85</td>\n",
       "      <td>29.85</td>\n",
       "      <td>No</td>\n",
       "    </tr>\n",
       "    <tr>\n",
       "      <th>1</th>\n",
       "      <td>Male</td>\n",
       "      <td>0</td>\n",
       "      <td>No</td>\n",
       "      <td>No</td>\n",
       "      <td>34</td>\n",
       "      <td>Yes</td>\n",
       "      <td>Yes</td>\n",
       "      <td>No</td>\n",
       "      <td>Yes</td>\n",
       "      <td>No</td>\n",
       "      <td>No</td>\n",
       "      <td>No</td>\n",
       "      <td>One year</td>\n",
       "      <td>56.95</td>\n",
       "      <td>1889.5</td>\n",
       "      <td>No</td>\n",
       "    </tr>\n",
       "    <tr>\n",
       "      <th>2</th>\n",
       "      <td>Male</td>\n",
       "      <td>0</td>\n",
       "      <td>No</td>\n",
       "      <td>No</td>\n",
       "      <td>2</td>\n",
       "      <td>Yes</td>\n",
       "      <td>Yes</td>\n",
       "      <td>Yes</td>\n",
       "      <td>No</td>\n",
       "      <td>No</td>\n",
       "      <td>No</td>\n",
       "      <td>No</td>\n",
       "      <td>Month-to-month</td>\n",
       "      <td>53.85</td>\n",
       "      <td>108.15</td>\n",
       "      <td>Yes</td>\n",
       "    </tr>\n",
       "    <tr>\n",
       "      <th>3</th>\n",
       "      <td>Male</td>\n",
       "      <td>0</td>\n",
       "      <td>No</td>\n",
       "      <td>No</td>\n",
       "      <td>45</td>\n",
       "      <td>No</td>\n",
       "      <td>Yes</td>\n",
       "      <td>No</td>\n",
       "      <td>Yes</td>\n",
       "      <td>Yes</td>\n",
       "      <td>No</td>\n",
       "      <td>No</td>\n",
       "      <td>One year</td>\n",
       "      <td>42.30</td>\n",
       "      <td>1840.75</td>\n",
       "      <td>No</td>\n",
       "    </tr>\n",
       "    <tr>\n",
       "      <th>4</th>\n",
       "      <td>Female</td>\n",
       "      <td>0</td>\n",
       "      <td>No</td>\n",
       "      <td>No</td>\n",
       "      <td>2</td>\n",
       "      <td>Yes</td>\n",
       "      <td>No</td>\n",
       "      <td>No</td>\n",
       "      <td>No</td>\n",
       "      <td>No</td>\n",
       "      <td>No</td>\n",
       "      <td>No</td>\n",
       "      <td>Month-to-month</td>\n",
       "      <td>70.70</td>\n",
       "      <td>151.65</td>\n",
       "      <td>Yes</td>\n",
       "    </tr>\n",
       "  </tbody>\n",
       "</table>\n",
       "</div>"
      ],
      "text/plain": [
       "   gender  SeniorCitizen Partner Dependents  tenure PhoneService  \\\n",
       "0  Female              0     Yes         No       1           No   \n",
       "1    Male              0      No         No      34          Yes   \n",
       "2    Male              0      No         No       2          Yes   \n",
       "3    Male              0      No         No      45           No   \n",
       "4  Female              0      No         No       2          Yes   \n",
       "\n",
       "  OnlineSecurity OnlineBackup DeviceProtection TechSupport StreamingTV  \\\n",
       "0             No          Yes               No          No          No   \n",
       "1            Yes           No              Yes          No          No   \n",
       "2            Yes          Yes               No          No          No   \n",
       "3            Yes           No              Yes         Yes          No   \n",
       "4             No           No               No          No          No   \n",
       "\n",
       "  StreamingMovies        Contract  MonthlyCharges TotalCharges Churn  \n",
       "0              No  Month-to-month           29.85        29.85    No  \n",
       "1              No        One year           56.95       1889.5    No  \n",
       "2              No  Month-to-month           53.85       108.15   Yes  \n",
       "3              No        One year           42.30      1840.75    No  \n",
       "4              No  Month-to-month           70.70       151.65   Yes  "
      ]
     },
     "execution_count": 2,
     "metadata": {},
     "output_type": "execute_result"
    }
   ],
   "source": [
    "churnData = pd.read_csv('Customer-Churn.csv')\n",
    "churnData.head()"
   ]
  },
  {
   "cell_type": "code",
   "execution_count": 3,
   "id": "bd3fbb62",
   "metadata": {},
   "outputs": [
    {
     "data": {
      "text/plain": [
       "(7043, 16)"
      ]
     },
     "execution_count": 3,
     "metadata": {},
     "output_type": "execute_result"
    }
   ],
   "source": [
    "churnData.shape"
   ]
  },
  {
   "cell_type": "code",
   "execution_count": 4,
   "id": "b70852ce",
   "metadata": {},
   "outputs": [
    {
     "data": {
      "text/plain": [
       "Index(['gender', 'SeniorCitizen', 'Partner', 'Dependents', 'tenure',\n",
       "       'PhoneService', 'OnlineSecurity', 'OnlineBackup', 'DeviceProtection',\n",
       "       'TechSupport', 'StreamingTV', 'StreamingMovies', 'Contract',\n",
       "       'MonthlyCharges', 'TotalCharges', 'Churn'],\n",
       "      dtype='object')"
      ]
     },
     "execution_count": 4,
     "metadata": {},
     "output_type": "execute_result"
    }
   ],
   "source": [
    "churnData.columns"
   ]
  },
  {
   "cell_type": "markdown",
   "id": "b11db83a",
   "metadata": {},
   "source": [
    "### 3. Cleaning the data"
   ]
  },
  {
   "cell_type": "code",
   "execution_count": 5,
   "id": "ee919aec",
   "metadata": {},
   "outputs": [],
   "source": [
    "churnData.rename(columns={'gender':'Gender', 'tenure':'Tenure'}, inplace=True)"
   ]
  },
  {
   "cell_type": "code",
   "execution_count": 6,
   "id": "644d1171",
   "metadata": {},
   "outputs": [
    {
     "name": "stdout",
     "output_type": "stream",
     "text": [
      "<class 'pandas.core.frame.DataFrame'>\n",
      "RangeIndex: 7043 entries, 0 to 7042\n",
      "Data columns (total 16 columns):\n",
      " #   Column            Non-Null Count  Dtype  \n",
      "---  ------            --------------  -----  \n",
      " 0   Gender            7043 non-null   object \n",
      " 1   SeniorCitizen     7043 non-null   int64  \n",
      " 2   Partner           7043 non-null   object \n",
      " 3   Dependents        7043 non-null   object \n",
      " 4   Tenure            7043 non-null   int64  \n",
      " 5   PhoneService      7043 non-null   object \n",
      " 6   OnlineSecurity    7043 non-null   object \n",
      " 7   OnlineBackup      7043 non-null   object \n",
      " 8   DeviceProtection  7043 non-null   object \n",
      " 9   TechSupport       7043 non-null   object \n",
      " 10  StreamingTV       7043 non-null   object \n",
      " 11  StreamingMovies   7043 non-null   object \n",
      " 12  Contract          7043 non-null   object \n",
      " 13  MonthlyCharges    7043 non-null   float64\n",
      " 14  TotalCharges      7043 non-null   object \n",
      " 15  Churn             7043 non-null   object \n",
      "dtypes: float64(1), int64(2), object(13)\n",
      "memory usage: 880.5+ KB\n"
     ]
    }
   ],
   "source": [
    "churnData.info()"
   ]
  },
  {
   "cell_type": "code",
   "execution_count": 7,
   "id": "79a566b2",
   "metadata": {},
   "outputs": [],
   "source": [
    "churnData['TotalCharges'] = pd.to_numeric(churnData['TotalCharges'], errors='coerce')"
   ]
  },
  {
   "cell_type": "code",
   "execution_count": 8,
   "id": "6a1dacb7",
   "metadata": {},
   "outputs": [
    {
     "data": {
      "text/plain": [
       "Gender               0\n",
       "SeniorCitizen        0\n",
       "Partner              0\n",
       "Dependents           0\n",
       "Tenure               0\n",
       "PhoneService         0\n",
       "OnlineSecurity       0\n",
       "OnlineBackup         0\n",
       "DeviceProtection     0\n",
       "TechSupport          0\n",
       "StreamingTV          0\n",
       "StreamingMovies      0\n",
       "Contract             0\n",
       "MonthlyCharges       0\n",
       "TotalCharges        11\n",
       "Churn                0\n",
       "dtype: int64"
      ]
     },
     "execution_count": 8,
     "metadata": {},
     "output_type": "execute_result"
    }
   ],
   "source": [
    "churnData.isna().sum()"
   ]
  },
  {
   "cell_type": "code",
   "execution_count": 9,
   "id": "ef915ddc",
   "metadata": {},
   "outputs": [],
   "source": [
    "# Since there are only 11 null values, I will drop the respective rows.\n",
    "churnData.dropna(inplace=True)"
   ]
  },
  {
   "cell_type": "markdown",
   "id": "024bc46d",
   "metadata": {},
   "source": [
    "### 4. Preprocessing the data"
   ]
  },
  {
   "cell_type": "code",
   "execution_count": 10,
   "id": "5c1d68f6",
   "metadata": {},
   "outputs": [],
   "source": [
    "# Normalising\n",
    "scaler = MinMaxScaler()\n",
    "columns_to_scale = ['Tenure', 'SeniorCitizen', 'MonthlyCharges', 'TotalCharges']\n",
    "churnData[columns_to_scale] = scaler.fit_transform(churnData[columns_to_scale])"
   ]
  },
  {
   "cell_type": "code",
   "execution_count": 11,
   "id": "f89f0966",
   "metadata": {},
   "outputs": [],
   "source": [
    "numericals = churnData.select_dtypes(include=np.number)\n",
    "categoricals = churnData.select_dtypes(include='object').drop('Churn', axis=1)\n",
    "y = churnData['Churn']\n",
    "\n",
    "# Encoding the categorical columns\n",
    "preprocessor = OneHotEncoder()\n",
    "cat_encoded = preprocessor.fit_transform(categoricals)\n",
    "\n",
    "cat_encoded_df = pd.DataFrame(cat_encoded.toarray(), columns=preprocessor.get_feature_names_out(categoricals.columns))\n",
    "churnData = pd.concat([cat_encoded_df, numericals, y], axis=1)"
   ]
  },
  {
   "cell_type": "code",
   "execution_count": 12,
   "id": "1ebb5b7c",
   "metadata": {},
   "outputs": [
    {
     "data": {
      "text/plain": [
       "(7021, 34)"
      ]
     },
     "execution_count": 12,
     "metadata": {},
     "output_type": "execute_result"
    }
   ],
   "source": [
    "# There are new null values due to encoding\n",
    "churnData.dropna(inplace=True)\n",
    "churnData.shape"
   ]
  },
  {
   "cell_type": "code",
   "execution_count": 13,
   "id": "dbcb0c16",
   "metadata": {},
   "outputs": [
    {
     "data": {
      "text/plain": [
       "No     5155\n",
       "Yes    1866\n",
       "Name: Churn, dtype: int64"
      ]
     },
     "execution_count": 13,
     "metadata": {},
     "output_type": "execute_result"
    }
   ],
   "source": [
    "churnData['Churn'].value_counts()"
   ]
  },
  {
   "cell_type": "markdown",
   "id": "28c34e56",
   "metadata": {},
   "source": [
    "### 5. Logistic regression model"
   ]
  },
  {
   "cell_type": "code",
   "execution_count": 14,
   "id": "121d264a",
   "metadata": {},
   "outputs": [],
   "source": [
    "def logistic_regression(X, y, imbalance_technique=None):    \n",
    "    if imbalance_technique is not None:\n",
    "        X, y = imbalance_technique.fit_resample(X, y)\n",
    "    \n",
    "    X_train, X_test, y_train, y_test = train_test_split(X, y, test_size=0.2, random_state=42)\n",
    "    logreg = LogisticRegression()\n",
    "    logreg.fit(X_train, y_train)\n",
    "    y_pred = logreg.predict(X_test)\n",
    "    \n",
    "    print(imbalance_technique)\n",
    "    unique, counts = np.unique(y_train, return_counts=True)\n",
    "    print(np.column_stack((unique, counts)))\n",
    "    \n",
    "    accuracy = accuracy_score(y_test, y_pred)\n",
    "    print('Accuracy:', accuracy)"
   ]
  },
  {
   "cell_type": "markdown",
   "id": "404f8c11",
   "metadata": {},
   "source": [
    "### 6. Managing imbalance & checking accuracy"
   ]
  },
  {
   "cell_type": "markdown",
   "id": "9e5f5ae3",
   "metadata": {},
   "source": [
    "#### SMOTE & TomekLinks"
   ]
  },
  {
   "cell_type": "code",
   "execution_count": 15,
   "id": "94eccac6",
   "metadata": {},
   "outputs": [
    {
     "name": "stdout",
     "output_type": "stream",
     "text": [
      "None\n",
      "[['No' 4094]\n",
      " ['Yes' 1522]]\n",
      "Accuracy: 0.79644128113879\n",
      "SMOTE()\n",
      "[['No' 4138]\n",
      " ['Yes' 4110]]\n",
      "Accuracy: 0.7468477206595538\n",
      "TomekLinks()\n",
      "[['No' 3574]\n",
      " ['Yes' 1496]]\n",
      "Accuracy: 0.7981072555205048\n"
     ]
    }
   ],
   "source": [
    "y = churnData['Churn']\n",
    "X = churnData.drop(['Churn'], axis=1)\n",
    "\n",
    "# Without imbalance technique\n",
    "logistic_regression(X, y)\n",
    "\n",
    "# Upsampling with synthetic data with SMOTE\n",
    "smote = SMOTE()\n",
    "logistic_regression(X, y, imbalance_technique=smote)\n",
    "\n",
    "# Reducing noise with TomekLinks by identifying pairs from majority and minority classes that are close to each other and removing those belonging to the majority class\n",
    "tl = TomekLinks()\n",
    "logistic_regression(X, y, imbalance_technique=tl)"
   ]
  },
  {
   "cell_type": "markdown",
   "id": "4a380177",
   "metadata": {},
   "source": [
    "The accuracy of the original dataset is already pretty good. With upsampling via SMOTE the model reduces accuracy while reducing the data with TomekLinks improves its performance slightly."
   ]
  },
  {
   "cell_type": "markdown",
   "id": "40ee84da",
   "metadata": {},
   "source": [
    "#### Random downsampling"
   ]
  },
  {
   "cell_type": "code",
   "execution_count": 16,
   "id": "b09a4ff3",
   "metadata": {},
   "outputs": [
    {
     "name": "stdout",
     "output_type": "stream",
     "text": [
      "[['No' 1472]\n",
      " ['Yes' 1513]]\n",
      "Accuracy: 0.714859437751004\n"
     ]
    }
   ],
   "source": [
    "category_No = churnData[churnData['Churn'] == 'No']\n",
    "category_Yes = churnData[churnData['Churn'] == 'Yes']\n",
    "\n",
    "category_No = category_No.sample(len(category_Yes))\n",
    "\n",
    "churnData2 = pd.concat([category_No, category_Yes], axis=0)\n",
    "churnData2 = churnData2.sample(frac=1)\n",
    "\n",
    "X = churnData2.drop(['Churn'], axis=1)\n",
    "y = churnData2['Churn']\n",
    "\n",
    "# Applying the model\n",
    "X_train, X_test, y_train, y_test = train_test_split(X, y, test_size=0.2, random_state=42)\n",
    "logreg = LogisticRegression()\n",
    "logreg.fit(X_train, y_train)\n",
    "y_pred = logreg.predict(X_test)\n",
    "    \n",
    "unique, counts = np.unique(y_train, return_counts=True)\n",
    "print(np.column_stack((unique, counts)))\n",
    "    \n",
    "accuracy = accuracy_score(y_test, y_pred)\n",
    "print('Accuracy:', accuracy)"
   ]
  },
  {
   "cell_type": "markdown",
   "id": "f5e0e886",
   "metadata": {},
   "source": [
    "#### Random upsampling"
   ]
  },
  {
   "cell_type": "code",
   "execution_count": 17,
   "id": "33d626c7",
   "metadata": {},
   "outputs": [
    {
     "name": "stdout",
     "output_type": "stream",
     "text": [
      "[['No' 1489]\n",
      " ['Yes' 1496]]\n",
      "Accuracy: 0.7376171352074966\n"
     ]
    }
   ],
   "source": [
    "category_No = churnData[churnData['Churn'] == 'No']\n",
    "category_Yes = churnData[churnData['Churn'] == 'Yes']\n",
    "\n",
    "category_Yes = category_Yes.sample(len(category_No), replace=True)\n",
    "\n",
    "churnData3 = pd.concat([category_No, category_Yes], axis=0)\n",
    "churnData3 = churnData2.sample(frac=1)\n",
    "\n",
    "X = churnData3.drop(['Churn'], axis=1)\n",
    "y = churnData3['Churn']\n",
    "\n",
    "# Applying the model\n",
    "X_train, X_test, y_train, y_test = train_test_split(X, y, test_size=0.2, random_state=42)\n",
    "logreg = LogisticRegression()\n",
    "logreg.fit(X_train, y_train)\n",
    "y_pred = logreg.predict(X_test)\n",
    "    \n",
    "unique, counts = np.unique(y_train, return_counts=True)\n",
    "print(np.column_stack((unique, counts)))\n",
    "    \n",
    "accuracy = accuracy_score(y_test, y_pred)\n",
    "print('Accuracy:', accuracy)"
   ]
  },
  {
   "cell_type": "markdown",
   "id": "021d24ab",
   "metadata": {},
   "source": [
    "Random downsampling provides higher accuracy than random upsampling. But the best accuracy score is still achieved with TomekLinks."
   ]
  },
  {
   "cell_type": "markdown",
   "id": "6034c8c1",
   "metadata": {},
   "source": [
    "I am confused and could not figure out why the total value counts before and after splitting the data is significantly high. See below."
   ]
  },
  {
   "cell_type": "code",
   "execution_count": 18,
   "id": "ba2bcbb6",
   "metadata": {},
   "outputs": [
    {
     "name": "stdout",
     "output_type": "stream",
     "text": [
      "Before splitting:\n",
      "[['No' 1866]\n",
      " ['Yes' 1866]]\n",
      "After splitting:\n",
      "[['No' 1489]\n",
      " ['Yes' 1496]]\n",
      "After training:\n",
      "[['No' 1489]\n",
      " ['Yes' 1496]]\n",
      "Accuracy: 0.7376171352074966\n"
     ]
    }
   ],
   "source": [
    "# Before splitting\n",
    "unique, counts = np.unique(y, return_counts=True)\n",
    "print(\"Before splitting:\")\n",
    "print(np.column_stack((unique, counts)))\n",
    "\n",
    "# Splitting the data\n",
    "X_train, X_test, y_train, y_test = train_test_split(X, y, test_size=0.2, random_state=42)\n",
    "\n",
    "# After splitting\n",
    "unique_train, counts_train = np.unique(y_train, return_counts=True)\n",
    "print(\"After splitting:\")\n",
    "print(np.column_stack((unique_train, counts_train)))\n",
    "\n",
    "# Training the logistic regression model\n",
    "logreg = LogisticRegression()\n",
    "logreg.fit(X_train, y_train)\n",
    "y_pred = logreg.predict(X_test)\n",
    "\n",
    "# Class distribution after training\n",
    "unique_pred, counts_pred = np.unique(y_train, return_counts=True)\n",
    "print(\"After training:\")\n",
    "print(np.column_stack((unique_pred, counts_pred)))\n",
    "\n",
    "accuracy = accuracy_score(y_test, y_pred)\n",
    "print(\"Accuracy:\", accuracy)"
   ]
  },
  {
   "cell_type": "markdown",
   "id": "9af4a7fd",
   "metadata": {},
   "source": [
    "### 7. Decision tree model"
   ]
  },
  {
   "cell_type": "code",
   "execution_count": 19,
   "id": "929c8ef8",
   "metadata": {},
   "outputs": [],
   "source": [
    "# Applying a decision tree model for classification\n",
    "def decision_tree(X, y, imbalance_technique=None):\n",
    "    if imbalance_technique is not None:\n",
    "        X, y = imbalance_technique.fit_resample(X, y)\n",
    "    \n",
    "    X_train, X_test, y_train, y_test = train_test_split(X, y, test_size=0.2, random_state=42)\n",
    "    dectree = DecisionTreeClassifier()\n",
    "    dectree.fit(X_train, y_train)\n",
    "    y_pred = dectree.predict(X_test)\n",
    "    \n",
    "    print(imbalance_technique)\n",
    "    unique, counts = np.unique(y_train, return_counts=True)\n",
    "    print(np.column_stack((unique, counts)))\n",
    "    \n",
    "    accuracy = accuracy_score(y_test, y_pred)  \n",
    "    print('Accuracy:', accuracy)"
   ]
  },
  {
   "cell_type": "code",
   "execution_count": 20,
   "id": "444ab997",
   "metadata": {},
   "outputs": [
    {
     "name": "stdout",
     "output_type": "stream",
     "text": [
      "None\n",
      "[['No' 4094]\n",
      " ['Yes' 1522]]\n",
      "Accuracy: 0.7174377224199289\n",
      "SMOTE()\n",
      "[['No' 4138]\n",
      " ['Yes' 4110]]\n",
      "Accuracy: 0.7327837051406402\n",
      "TomekLinks()\n",
      "[['No' 3574]\n",
      " ['Yes' 1496]]\n",
      "Accuracy: 0.6987381703470031\n"
     ]
    }
   ],
   "source": [
    "y = churnData['Churn']\n",
    "X = churnData.drop(['Churn'], axis=1)\n",
    "\n",
    "# Without imbalance technique\n",
    "decision_tree(X, y)\n",
    "\n",
    "# Upsampling with synthetic data with SMOTE\n",
    "smote = SMOTE()\n",
    "decision_tree(X, y, imbalance_technique=smote)\n",
    "\n",
    "# Reducing noise with TomekLinks by identifying pairs from majority and minority classes that are close to each other and removing those belonging to the majority class\n",
    "tl = TomekLinks()\n",
    "decision_tree(X, y, imbalance_technique=tl)"
   ]
  },
  {
   "cell_type": "markdown",
   "id": "77e2fba7",
   "metadata": {},
   "source": [
    "With a decision tree classification model the highest accuracy is achieved after applying SMOTE upsampling."
   ]
  },
  {
   "cell_type": "markdown",
   "id": "071d55cc",
   "metadata": {},
   "source": [
    "The accuracy for the logistic regression model were: <br>\n",
    "\n",
    "**None** <br>\n",
    "[['No' 4094] <br>\n",
    " ['Yes' 1522]] <br>\n",
    "Accuracy: 0.79644128113879 <br>\n",
    "**SMOTE** <br>\n",
    "[['No' 4138] <br>\n",
    " ['Yes' 4110]] <br>\n",
    "Accuracy: 0.7473326867119302 <br>\n",
    "**TomekLinks** <br>\n",
    "[['No' 3574] <br>\n",
    " ['Yes' 1496]] <br>\n",
    "Accuracy: 0.7981072555205048"
   ]
  },
  {
   "cell_type": "markdown",
   "id": "5452e783",
   "metadata": {},
   "source": [
    "Overall, the logistic regression model shows higher accuracy than the decision tree model."
   ]
  },
  {
   "cell_type": "markdown",
   "id": "cb61a4fd",
   "metadata": {},
   "source": [
    "### 8. Random forests model"
   ]
  },
  {
   "cell_type": "code",
   "execution_count": 26,
   "id": "42f0af19",
   "metadata": {},
   "outputs": [],
   "source": [
    "# Applying a random forest model for classification\n",
    "def random_forest(X, y, imbalance_technique=None):\n",
    "    if imbalance_technique is not None:\n",
    "        X, y = imbalance_technique.fit_resample(X, y)\n",
    "    \n",
    "    X_train, X_test, y_train, y_test = train_test_split(X, y, test_size=0.2, random_state=42)\n",
    "    \n",
    "    print(imbalance_technique)\n",
    "    unique, counts = np.unique(y_train, return_counts=True)\n",
    "    print(np.column_stack((unique, counts)))\n",
    "    \n",
    "    ranforest = RandomForestClassifier()\n",
    "    ranforest.fit(X_train, y_train)\n",
    "    y_pred = ranforest.predict(X_test)\n",
    "    \n",
    "    accuracy = accuracy_score(y_test, y_pred)\n",
    "    print('Accuracy:', accuracy)"
   ]
  },
  {
   "cell_type": "code",
   "execution_count": 27,
   "id": "eb075a62",
   "metadata": {},
   "outputs": [
    {
     "name": "stdout",
     "output_type": "stream",
     "text": [
      "None\n",
      "[['No' 4094]\n",
      " ['Yes' 1522]]\n",
      "Accuracy: 0.7701067615658364\n",
      "SMOTE()\n",
      "[['No' 4138]\n",
      " ['Yes' 4110]]\n",
      "Accuracy: 0.8026188166828322\n"
     ]
    }
   ],
   "source": [
    "y = churnData['Churn']\n",
    "X = churnData.drop(['Churn'], axis=1)\n",
    "\n",
    "# Without imbalance technique\n",
    "random_forest(X, y)\n",
    "\n",
    "# Upsampling with synthetic data using SMOTE\n",
    "smote = SMOTE()\n",
    "random_forest(X, y, imbalance_technique=smote)"
   ]
  },
  {
   "cell_type": "markdown",
   "id": "0c005b56",
   "metadata": {},
   "source": [
    "The random forest model shows higher accuracy after upsampling with SMOTE."
   ]
  }
 ],
 "metadata": {
  "kernelspec": {
   "display_name": "Python 3 (ipykernel)",
   "language": "python",
   "name": "python3"
  },
  "language_info": {
   "codemirror_mode": {
    "name": "ipython",
    "version": 3
   },
   "file_extension": ".py",
   "mimetype": "text/x-python",
   "name": "python",
   "nbconvert_exporter": "python",
   "pygments_lexer": "ipython3",
   "version": "3.9.13"
  }
 },
 "nbformat": 4,
 "nbformat_minor": 5
}
